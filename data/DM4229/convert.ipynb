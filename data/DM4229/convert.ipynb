{
 "cells": [
  {
   "cell_type": "code",
   "execution_count": 5,
   "metadata": {},
   "outputs": [
    {
     "ename": "KeyboardInterrupt",
     "evalue": "",
     "output_type": "error",
     "traceback": [
      "\u001b[0;31m---------------------------------------------------------------------------\u001b[0m",
      "\u001b[0;31mKeyboardInterrupt\u001b[0m                         Traceback (most recent call last)",
      "Cell \u001b[0;32mIn[5], line 13\u001b[0m\n\u001b[1;32m     11\u001b[0m \u001b[39mwith\u001b[39;00m \u001b[39mopen\u001b[39m(p\u001b[39m.\u001b[39mreplace(\u001b[39m'\u001b[39m\u001b[39m.pdf\u001b[39m\u001b[39m'\u001b[39m, \u001b[39m'\u001b[39m\u001b[39m.txt\u001b[39m\u001b[39m'\u001b[39m), \u001b[39m'\u001b[39m\u001b[39mw\u001b[39m\u001b[39m'\u001b[39m) \u001b[39mas\u001b[39;00m f:\n\u001b[1;32m     12\u001b[0m     \u001b[39mfor\u001b[39;00m page \u001b[39min\u001b[39;00m pdf\u001b[39m.\u001b[39mpages:\n\u001b[0;32m---> 13\u001b[0m         f\u001b[39m.\u001b[39mwrite(page\u001b[39m.\u001b[39;49mextract_text())\n",
      "File \u001b[0;32m~/miniconda3/lib/python3.10/site-packages/pypdf/_page.py:1943\u001b[0m, in \u001b[0;36mPageObject.extract_text\u001b[0;34m(self, Tj_sep, TJ_sep, orientations, space_width, visitor_operand_before, visitor_operand_after, visitor_text, *args)\u001b[0m\n\u001b[1;32m   1940\u001b[0m \u001b[39mif\u001b[39;00m \u001b[39misinstance\u001b[39m(orientations, \u001b[39mint\u001b[39m):\n\u001b[1;32m   1941\u001b[0m     orientations \u001b[39m=\u001b[39m (orientations,)\n\u001b[0;32m-> 1943\u001b[0m \u001b[39mreturn\u001b[39;00m \u001b[39mself\u001b[39;49m\u001b[39m.\u001b[39;49m_extract_text(\n\u001b[1;32m   1944\u001b[0m     \u001b[39mself\u001b[39;49m,\n\u001b[1;32m   1945\u001b[0m     \u001b[39mself\u001b[39;49m\u001b[39m.\u001b[39;49mpdf,\n\u001b[1;32m   1946\u001b[0m     orientations,\n\u001b[1;32m   1947\u001b[0m     space_width,\n\u001b[1;32m   1948\u001b[0m     PG\u001b[39m.\u001b[39;49mCONTENTS,\n\u001b[1;32m   1949\u001b[0m     visitor_operand_before,\n\u001b[1;32m   1950\u001b[0m     visitor_operand_after,\n\u001b[1;32m   1951\u001b[0m     visitor_text,\n\u001b[1;32m   1952\u001b[0m )\n",
      "File \u001b[0;32m~/miniconda3/lib/python3.10/site-packages/pypdf/_page.py:1846\u001b[0m, in \u001b[0;36mPageObject._extract_text\u001b[0;34m(self, obj, pdf, orientations, space_width, content_key, visitor_operand_before, visitor_operand_after, visitor_text)\u001b[0m\n\u001b[1;32m   1844\u001b[0m         text \u001b[39m=\u001b[39m \u001b[39m\"\u001b[39m\u001b[39m\"\u001b[39m\n\u001b[1;32m   1845\u001b[0m \u001b[39melse\u001b[39;00m:\n\u001b[0;32m-> 1846\u001b[0m     process_operation(operator, operands)\n\u001b[1;32m   1847\u001b[0m \u001b[39mif\u001b[39;00m visitor_operand_after \u001b[39mis\u001b[39;00m \u001b[39mnot\u001b[39;00m \u001b[39mNone\u001b[39;00m:\n\u001b[1;32m   1848\u001b[0m     visitor_operand_after(operator, operands, cm_matrix, tm_matrix)\n",
      "File \u001b[0;32m~/miniconda3/lib/python3.10/site-packages/pypdf/_page.py:1637\u001b[0m, in \u001b[0;36mPageObject._extract_text.<locals>.process_operation\u001b[0;34m(operator, operands)\u001b[0m\n\u001b[1;32m   1635\u001b[0m check_crlf_space: \u001b[39mbool\u001b[39m \u001b[39m=\u001b[39m \u001b[39mFalse\u001b[39;00m\n\u001b[1;32m   1636\u001b[0m \u001b[39m# Table 5.4 page 405\u001b[39;00m\n\u001b[0;32m-> 1637\u001b[0m \u001b[39mif\u001b[39;00m operator \u001b[39m==\u001b[39m \u001b[39mb\u001b[39m\u001b[39m\"\u001b[39m\u001b[39mBT\u001b[39m\u001b[39m\"\u001b[39m:\n\u001b[1;32m   1638\u001b[0m     tm_matrix \u001b[39m=\u001b[39m [\u001b[39m1.0\u001b[39m, \u001b[39m0.0\u001b[39m, \u001b[39m0.0\u001b[39m, \u001b[39m1.0\u001b[39m, \u001b[39m0.0\u001b[39m, \u001b[39m0.0\u001b[39m]\n\u001b[1;32m   1639\u001b[0m     output \u001b[39m+\u001b[39m\u001b[39m=\u001b[39m text\n",
      "\u001b[0;31mKeyboardInterrupt\u001b[0m: "
     ]
    }
   ],
   "source": [
    "# convert PDF to txt\n",
    "import pypdf\n",
    "\n",
    "for p in [\n",
    "    'LDR_train_dataset.pdf',\n",
    "    'LDR_validation_dataset.pdf',\n",
    "    'SDR_train_dataset.pdf',\n",
    "    'SDR_validation_dataset.pdf',\n",
    "]:\n",
    "    pdf = pypdf.PdfReader(open(p, \"rb\"))\n",
    "    with open(p.replace('.pdf', '.txt'), 'w') as f:\n",
    "        for page in pdf.pages:\n",
    "            f.write(page.extract_text())\n"
   ]
  },
  {
   "cell_type": "code",
   "execution_count": null,
   "metadata": {},
   "outputs": [
    {
     "name": "stderr",
     "output_type": "stream",
     "text": [
      "100%|██████████| 12096/12096 [00:00<00:00, 866660.42it/s]\n"
     ]
    }
   ],
   "source": [
    "from tqdm import tqdm\n",
    "\n",
    "with open('val.txt') as f:\n",
    "    lines = f.readlines()\n",
    "    seqs = {}\n",
    "    seqid, seq, label = '', '', ''\n",
    "    for line in tqdm(lines):\n",
    "        line = line.strip()\n",
    "        if line == '':\n",
    "            continue\n",
    "        elif line.startswith('>'):\n",
    "            if seq != '':\n",
    "                seqs[seqid] = (seq, label)\n",
    "                assert len(seq) == len(label), f\"{seqid}: {len(seq)} != {len(label)}\"\n",
    "            seqid = line[1:].strip()\n",
    "            seq = ''\n",
    "            label = ''\n",
    "        elif line[0] in '01':\n",
    "            label += line.strip()\n",
    "        else:\n",
    "            seq += line.strip()\n",
    "with open('val_clean.txt', 'w') as f:\n",
    "    for seqid, (seq, label) in seqs.items():\n",
    "        f.write(f'>{seqid}\\n{seq}\\n{label}\\n')"
   ]
  },
  {
   "cell_type": "code",
   "execution_count": 21,
   "metadata": {},
   "outputs": [
    {
     "name": "stdout",
     "output_type": "stream",
     "text": [
      "idx: 2951 -> 2953\n"
     ]
    }
   ],
   "source": [
    "import re\n",
    "seqs = []\n",
    "with open('train.txt') as f:\n",
    "    lines = f.readlines()\n",
    "    for i in range(0, len(lines), 3):\n",
    "        seqs.append((lines[i].strip()[1:], lines[i+1].strip(), lines[i+2].strip()))\n",
    "\n",
    "# sort by the first element\n",
    "seqs = sorted(seqs, key=lambda x: int(x[0][8:]))\n",
    "idx = 0\n",
    "with open('train_clean.txt', 'w') as f:\n",
    "    for seqid, seq, label in seqs:\n",
    "        cur_idx = int(seqid[8:])\n",
    "        if cur_idx != idx + 1:\n",
    "            print(f'idx: {idx} -> {cur_idx}')\n",
    "            break\n",
    "        else:\n",
    "            idx = cur_idx\n",
    "        f.write(f'>{seqid}\\n{seq}\\n{label}\\n')"
   ]
  }
 ],
 "metadata": {
  "kernelspec": {
   "display_name": "base",
   "language": "python",
   "name": "python3"
  },
  "language_info": {
   "codemirror_mode": {
    "name": "ipython",
    "version": 3
   },
   "file_extension": ".py",
   "mimetype": "text/x-python",
   "name": "python",
   "nbconvert_exporter": "python",
   "pygments_lexer": "ipython3",
   "version": "3.10.8"
  },
  "orig_nbformat": 4
 },
 "nbformat": 4,
 "nbformat_minor": 2
}
