{
 "cells": [
  {
   "cell_type": "code",
   "execution_count": 1,
   "metadata": {},
   "outputs": [],
   "source": [
    "# convert PDF to txt\n",
    "import pypdf\n",
    "\n",
    "for p in [\n",
    "    'CASP.pdf',\n",
    "    'DISORDER723.pdf',\n",
    "    'MXD494.pdf',\n",
    "    'SL329.pdf',\n",
    "]:\n",
    "    pdf = pypdf.PdfReader(open(p, \"rb\"))\n",
    "    with open(p.replace('.pdf', '.txt'), 'w') as f:\n",
    "        for page in pdf.pages:\n",
    "            f.write(page.extract_text())\n"
   ]
  },
  {
   "cell_type": "code",
   "execution_count": 61,
   "metadata": {},
   "outputs": [
    {
     "name": "stderr",
     "output_type": "stream",
     "text": [
      "100%|██████████| 932/932 [00:00<00:00, 421011.45it/s]\n"
     ]
    }
   ],
   "source": [
    "from tqdm import tqdm\n",
    "\n",
    "with open('CASP.txt') as f:\n",
    "    lines = f.readlines()\n",
    "    seqs = {}\n",
    "    seqid, seq, label = '', '', ''\n",
    "    for line in tqdm(lines):\n",
    "        line = line.strip()\n",
    "        if line == '':\n",
    "            continue\n",
    "        elif line.startswith('>'):\n",
    "            if seq != '':\n",
    "                assert seqid not in seqs, seqid\n",
    "                seqs[seqid] = (seq, label)\n",
    "                assert len(seq) == len(label), f\"{seqid}: {len(seq)} != {len(label)}\"\n",
    "            seqid = line[1:].strip()\n",
    "            seq = ''\n",
    "            label = ''\n",
    "        elif line[0] in '012':\n",
    "            label += line.strip()\n",
    "        else:\n",
    "            seq += line.strip()\n",
    "    seqs[seqid] = (seq, label)\n",
    "with open('CASP_clean.txt', 'w') as f:\n",
    "    for seqid, (seq, label) in seqs.items():\n",
    "        f.write(f'>{seqid}\\n{seq}\\n{label}\\n')"
   ]
  },
  {
   "cell_type": "code",
   "execution_count": 21,
   "metadata": {},
   "outputs": [
    {
     "name": "stdout",
     "output_type": "stream",
     "text": [
      "idx: 2951 -> 2953\n"
     ]
    }
   ],
   "source": [
    "import re\n",
    "seqs = []\n",
    "with open('train.txt') as f:\n",
    "    lines = f.readlines()\n",
    "    for i in range(0, len(lines), 3):\n",
    "        seqs.append((lines[i].strip()[1:], lines[i+1].strip(), lines[i+2].strip()))\n",
    "\n",
    "# sort by the first element\n",
    "seqs = sorted(seqs, key=lambda x: int(x[0][8:]))\n",
    "idx = 0\n",
    "with open('train_clean.txt', 'w') as f:\n",
    "    for seqid, seq, label in seqs:\n",
    "        cur_idx = int(seqid[8:])\n",
    "        if cur_idx != idx + 1:\n",
    "            print(f'idx: {idx} -> {cur_idx}')\n",
    "            break\n",
    "        else:\n",
    "            idx = cur_idx\n",
    "        f.write(f'>{seqid}\\n{seq}\\n{label}\\n')"
   ]
  }
 ],
 "metadata": {
  "kernelspec": {
   "display_name": "base",
   "language": "python",
   "name": "python3"
  },
  "language_info": {
   "codemirror_mode": {
    "name": "ipython",
    "version": 3
   },
   "file_extension": ".py",
   "mimetype": "text/x-python",
   "name": "python",
   "nbconvert_exporter": "python",
   "pygments_lexer": "ipython3",
   "version": "3.10.8"
  },
  "orig_nbformat": 4
 },
 "nbformat": 4,
 "nbformat_minor": 2
}
