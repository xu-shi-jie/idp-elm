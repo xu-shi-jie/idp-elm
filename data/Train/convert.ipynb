{
 "cells": [
  {
   "cell_type": "code",
   "execution_count": 3,
   "metadata": {},
   "outputs": [],
   "source": [
    "dm_train = open('../DM4229/train.txt').readlines()\n",
    "dm_val = open('../DM4229/val.txt').readlines()\n",
    "fldpnn_train = open('../flDPnn/flDPnn_Training_Annotation.txt').readlines()[10:]\n",
    "fldpnn_val = open('../flDPnn/flDPnn_Validation_Annotation.txt').readlines()[10:]\n",
    "\n",
    "with open('train.txt', 'w') as f:\n",
    "    for i in range(0, len(dm_train), 3):\n",
    "        f.write(f'{dm_train[i].strip()}\\n{dm_train[i+1].strip()}\\n{dm_train[i+2].strip()}\\n')\n",
    "    for i in range(0, len(fldpnn_train), 7):\n",
    "        f.write(f'{fldpnn_train[i].strip()}\\n{fldpnn_train[i+1].strip()}\\n{fldpnn_train[i+2].strip()}\\n')\n",
    "\n",
    "with open('val.txt', 'w') as f:\n",
    "    for i in range(0, len(dm_val), 3):\n",
    "        f.write(f'{dm_val[i].strip()}\\n{dm_val[i+1].strip()}\\n{dm_val[i+2].strip()}\\n')\n",
    "    for i in range(0, len(fldpnn_val), 7):\n",
    "        f.write(f'{fldpnn_val[i].strip()}\\n{fldpnn_val[i+1].strip()}\\n{fldpnn_val[i+2].strip()}\\n')\n",
    "        "
   ]
  }
 ],
 "metadata": {
  "kernelspec": {
   "display_name": "base",
   "language": "python",
   "name": "python3"
  },
  "language_info": {
   "codemirror_mode": {
    "name": "ipython",
    "version": 3
   },
   "file_extension": ".py",
   "mimetype": "text/x-python",
   "name": "python",
   "nbconvert_exporter": "python",
   "pygments_lexer": "ipython3",
   "version": "3.10.8"
  },
  "orig_nbformat": 4
 },
 "nbformat": 4,
 "nbformat_minor": 2
}
