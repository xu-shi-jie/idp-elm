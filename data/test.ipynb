{
 "cells": [
  {
   "cell_type": "code",
   "execution_count": 3,
   "metadata": {},
   "outputs": [],
   "source": [
    "lines = open('pred.txt').readlines()\n",
    "data = []\n",
    "for line in lines:\n",
    "    if line.startswith('>'):\n",
    "        id = line.strip()[1:]\n",
    "        data.append([id, []])\n",
    "    else:\n",
    "        data[-1][1].append(line.strip().split('\\t')[1])\n",
    "data = {d[0]: d[1] for d in data}\n",
    "data = {k:''.join(v) for k,v in data.items()}\n",
    "\n",
    "# read seq\n",
    "lines = open('seq.fasta').readlines()\n",
    "seqs = []\n",
    "for line in lines:\n",
    "    if line.startswith('>'):\n",
    "        id, *_ = line.strip()[1:].split(' ')\n",
    "        seqs.append([id, []])\n",
    "    else:\n",
    "        seqs[-1][1].append(line.strip())\n",
    "seqs = {d[0]: d[1] for d in seqs}\n",
    "seqs = {k:''.join(v) for k,v in seqs.items()}\n",
    "# read disorder\n",
    "lines = open('caid.fasta').readlines()\n",
    "dis = []\n",
    "for line in lines:\n",
    "    if line.startswith('>'):\n",
    "        id = line.strip().split('|')[1]\n",
    "        dis.append([id, []])\n",
    "    else:\n",
    "        dis[-1][1].append(line.strip())\n",
    "dis = {d[0]: d[1] for d in dis}\n",
    "dis = {k:''.join(v) for k,v in dis.items()}\n",
    "\n",
    "# check lengths\n",
    "for k in data:\n",
    "    if len(data[k]) != len(seqs[k]):\n",
    "        print(k, len(data[k]), len(seqs[k]))\n",
    "    if len(data[k]) != len(dis[k]):\n",
    "        print(k, len(data[k]), len(dis[k]))\n",
    "\n",
    "# write to file\n",
    "with open('CAID.txt', 'w') as f:\n",
    "    for k, v in data.items():\n",
    "        f.write('>' + k + '\\n')\n",
    "        f.write(seqs[k] + '\\n')\n",
    "        f.write(dis[k].replace('-', '0').replace('D', '1') + '\\n')\n"
   ]
  },
  {
   "cell_type": "code",
   "execution_count": 30,
   "metadata": {},
   "outputs": [
    {
     "name": "stderr",
     "output_type": "stream",
     "text": [
      "100%|██████████| 2470/2470 [00:00<00:00, 114106.21it/s]\n"
     ]
    }
   ],
   "source": [
    "import pandas as pd\n",
    "import numpy as np\n",
    "from pathlib import Path\n",
    "import requests\n",
    "from tqdm import tqdm\n",
    "\n",
    "def get_seqs(acc):\n",
    "    url = f'https://rest.uniprot.org/uniprotkb/{acc}.fasta'\n",
    "    r = requests.get(url).text\n",
    "    return r\n",
    "\n",
    "df = pd.read_csv('disprot2022dec.tsv', sep='\\t')\n",
    "acc = df['acc'].unique()\n",
    "Path('DisProt2022Dec').mkdir(exist_ok=True, parents=True)\n",
    "seqs = {}\n",
    "for a in tqdm(acc):\n",
    "    if not Path(f'DisProt2022Dec/{a}.fasta').exists():\n",
    "        seqs[a] = get_seqs(a)\n",
    "        with open(f'DisProt2022Dec/{a}.fasta', 'w') as f:\n",
    "            f.write(f'{seqs[a]}')"
   ]
  },
  {
   "cell_type": "code",
   "execution_count": 32,
   "metadata": {},
   "outputs": [],
   "source": [
    "def read_fasta(acc):\n",
    "    with open(f'DisProt2022Dec/{acc}.fasta') as f:\n",
    "        lines = f.read().splitlines()\n",
    "    return ''.join(lines[1:]).strip()\n",
    "\n",
    "regions = {}\n",
    "for i, row in df.iterrows():\n",
    "    acc = row['acc']\n",
    "    disprot_acc = row['disprot_id']\n",
    "    if acc in regions:\n",
    "        t = regions[(acc, disprot_acc)]\n",
    "    else:\n",
    "        t = []\n",
    "    t.append((row['start']-1, row['end']))\n",
    "    regions[(acc, disprot_acc)] = t"
   ]
  },
  {
   "cell_type": "code",
   "execution_count": 33,
   "metadata": {},
   "outputs": [],
   "source": [
    "with open(f'DisProt.txt', 'w') as f:\n",
    "    for (acc, disprot_acc), reg in regions.items():\n",
    "        seq = read_fasta(acc)\n",
    "        dis = np.zeros(len(seq))\n",
    "        for r in reg:\n",
    "            dis[r[0]:r[1]] = 1\n",
    "        dis = ''.join([str(int(d)) for d in dis])\n",
    "        f.write(f'>{disprot_acc}\\n{seq}\\n{dis}\\n')"
   ]
  },
  {
   "cell_type": "code",
   "execution_count": 12,
   "metadata": {},
   "outputs": [],
   "source": [
    "train_data = open('flDPnn/flDPnn_Training_Annotation.txt').read().splitlines()[10:]\n",
    "val_data = open('flDPnn/flDPnn_Validation_Annotation.txt').read().splitlines()[10:]\n",
    "train_ids = [s[1:] for s in train_data[::7]]\n",
    "val_ids = [s[1:] for s in val_data[::7]]\n",
    "train_ids = train_ids + val_ids\n",
    "\n",
    "lines = open('DisProt_clean.txt').read().splitlines()\n",
    "test_ids = [s[1:] for s in lines[::3]]\n",
    "\n",
    "for i in test_ids:\n",
    "    if i in train_ids:\n",
    "        print(i)"
   ]
  },
  {
   "cell_type": "code",
   "execution_count": 17,
   "metadata": {},
   "outputs": [
    {
     "name": "stdout",
     "output_type": "stream",
     "text": [
      "6 118\n"
     ]
    }
   ],
   "source": [
    "fldpnn_test_data = open('flDPnn/flDPnn_DissimiTest_Annotation.txt').read().splitlines()[10:]\n",
    "fldpnn_test = {}\n",
    "for i in range(0, len(fldpnn_test_data), 3):\n",
    "    fldpnn_test[fldpnn_test_data[i]] = fldpnn_test_data[i+1]\n",
    "disprot_test_data = open('DisProt_clean.txt').read().splitlines()\n",
    "\n",
    "overlap = 0\n",
    "for i in range(0, len(disprot_test_data), 3):\n",
    "    if disprot_test_data[i] in fldpnn_test:\n",
    "        overlap += 1\n",
    "        assert len(fldpnn_test[disprot_test_data[i]]) == len(disprot_test_data[i+2])\n",
    "print(overlap, len(disprot_test_data)//3 - overlap)"
   ]
  },
  {
   "cell_type": "code",
   "execution_count": 19,
   "metadata": {},
   "outputs": [],
   "source": [
    "lines = open('DisProt_clean.txt').read().splitlines()\n",
    "with open('DisProt_clean.fasta', 'w') as f:\n",
    "    for i in range(0, len(lines), 3):\n",
    "        f.write(f'{lines[i]}\\n{lines[i+1]}\\n')\n"
   ]
  },
  {
   "cell_type": "code",
   "execution_count": 2,
   "metadata": {},
   "outputs": [],
   "source": [
    "with open('flDPnn/flDPnn_DissimiTest_Annotation.txt') as f, open('fldpnn.fasta', 'w') as f2:\n",
    "    lines = f.read().splitlines()[10:]\n",
    "    for i in range(0, len(lines), 7):\n",
    "        f2.write(f'{lines[i]}\\n{lines[i+1]}\\n')"
   ]
  },
  {
   "cell_type": "code",
   "execution_count": 1,
   "metadata": {},
   "outputs": [],
   "source": [
    "lines = open('CAID.txt').read().splitlines()\n",
    "with open('CAID.fasta', 'w') as f:\n",
    "    for i in range(0, len(lines), 3):\n",
    "        f.write(f'{lines[i]}\\n{lines[i+1]}\\n')"
   ]
  },
  {
   "cell_type": "code",
   "execution_count": null,
   "metadata": {},
   "outputs": [],
   "source": []
  }
 ],
 "metadata": {
  "kernelspec": {
   "display_name": "base",
   "language": "python",
   "name": "python3"
  },
  "language_info": {
   "codemirror_mode": {
    "name": "ipython",
    "version": 3
   },
   "file_extension": ".py",
   "mimetype": "text/x-python",
   "name": "python",
   "nbconvert_exporter": "python",
   "pygments_lexer": "ipython3",
   "version": "3.10.8"
  },
  "orig_nbformat": 4
 },
 "nbformat": 4,
 "nbformat_minor": 2
}
